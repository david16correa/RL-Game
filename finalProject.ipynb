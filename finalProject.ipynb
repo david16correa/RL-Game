{
 "cells": [
  {
   "cell_type": "markdown",
   "id": "d5b88904-2850-4899-8f22-e4a85d1d957b",
   "metadata": {},
   "source": [
    "# Final project"
   ]
  },
  {
   "cell_type": "markdown",
   "id": "aa7aedf7-735e-4c32-8333-aa26ee8b8464",
   "metadata": {},
   "source": [
    "## preamble"
   ]
  },
  {
   "cell_type": "code",
   "execution_count": 1,
   "id": "cb53bdf2-24aa-45ec-b803-2f03303895cd",
   "metadata": {},
   "outputs": [],
   "source": [
    "import matplotlib as mpl\n",
    "import matplotlib.pyplot as plt\n",
    "import numpy as np\n",
    "import random\n",
    "import time\n",
    "import os\n",
    "\n",
    "import finalProject as fp\n",
    "\n",
    "\n",
    "%reload_ext autoreload\n",
    "%autoreload 2"
   ]
  },
  {
   "cell_type": "markdown",
   "id": "8ca2a5f2-e4bf-4213-a4ed-2264192c889c",
   "metadata": {},
   "source": [
    "## Game Init"
   ]
  },
  {
   "cell_type": "code",
   "execution_count": 181,
   "id": "42faa5c4-8e8d-405b-99a8-6fcdfca58030",
   "metadata": {},
   "outputs": [
    {
     "name": "stdout",
     "output_type": "stream",
     "text": [
      "time: 0\n",
      "goal reward: 0\n",
      "package values: [50, 50, 50]\n"
     ]
    },
    {
     "data": {
      "image/png": "[encoded data removed]",
      "text/plain": [
       "<Figure size 450x450 with 1 Axes>"
      ]
     },
     "metadata": {},
     "output_type": "display_data"
    }
   ],
   "source": [
    "game = fp.Game(size=6,\n",
    "    goalValue=0,\n",
    "    packageValue=50,\n",
    "    nPackages=3,\n",
    "    timePenalty=5,\n",
    "    invalidMovePenalty=10\n",
    ")\n",
    "print(f\"time: {game.time}\")\n",
    "print(f\"goal reward: {game.goal.value}\")\n",
    "print(f\"package values: {[game.packages[id].value for id in range(len(game.packages))]}\")\n",
    "fig, axes = game.plot()\n",
    "plt.show()"
   ]
  },
  {
   "cell_type": "markdown",
   "id": "a683a04e-6f76-4d33-a43d-c1f6a7aeb646",
   "metadata": {},
   "source": [
    "## Solve"
   ]
  },
  {
   "cell_type": "code",
   "execution_count": 182,
   "id": "441a5f19-abbd-4431-a26e-d2ae0bb59fd2",
   "metadata": {},
   "outputs": [
    {
     "name": "stdout",
     "output_type": "stream",
     "text": [
      "time taken: 98.2656\n"
     ]
    }
   ],
   "source": [
    "start = time.time()\n",
    "policy, valueFunction = fp.optimalPolicyGet(game, gamma=0.999)\n",
    "end = time.time()\n",
    "print(f\"time taken: {end-start:.4f}\")"
   ]
  },
  {
   "cell_type": "code",
   "execution_count": 183,
   "id": "1506575f-ff40-4611-b080-d0540ab68ad7",
   "metadata": {},
   "outputs": [
    {
     "name": "stdout",
     "output_type": "stream",
     "text": [
      "          "
     ]
    },
    {
     "data": {
      "text/plain": [
       "0"
      ]
     },
     "execution_count": 183,
     "metadata": {},
     "output_type": "execute_result"
    }
   ],
   "source": [
    "# necessary directories are created\n",
    "outputDir = f\"frames\"\n",
    "os.system(f'mkdir -p anims')\n",
    "os.system(f'mkdir {outputDir}')\n",
    "\n",
    "# a copy of the game is created\n",
    "auxGame = game.copy()\n",
    "tickId = 0\n",
    "fig, axes = auxGame.plot()\n",
    "plt.savefig(f\"{outputDir}/{tickId}.png\", format=\"png\", dpi=300, bbox_inches=\"tight\")\n",
    "plt.close()\n",
    "while not auxGame.walker.goalReached and tickId < game.maze.size**2:\n",
    "    tickId+=1\n",
    "    # the walker is moved according to policy\n",
    "    auxGame.moveWalker(policy[fp.stateId(auxGame)])\n",
    "    # the game plot is created and saved\n",
    "    fig, axes = auxGame.plot()\n",
    "    plt.savefig(f\"{outputDir}/{tickId}.png\", format=\"png\", dpi=300, bbox_inches=\"tight\")\n",
    "    plt.close()\n",
    "    # some logs to know something is happening\n",
    "    print(f'\\r{tickId}', end='', flush=True)\n",
    "print('\\r'+' '*10, end='', flush=True)\n",
    "\n",
    "# ffmpeg is used to create the animation\n",
    "mkAnimSh = f'ffmpeg -framerate 3 -i {outputDir}/%d.png -vf \"scale=trunc(iw/2)*2:trunc(ih/2)*2\" -c:v libx264 -pix_fmt yuv420p -loglevel quiet anims/$(date +%m%d%H%M%S).mp4'\n",
    "os.system(mkAnimSh)\n",
    "\n",
    "# the directory with the frames is erased\n",
    "os.system(f'rm -r {outputDir}')"
   ]
  },
  {
   "cell_type": "code",
   "execution_count": null,
   "id": "4e4446ea-347d-46f0-a9b9-f303925598f0",
   "metadata": {},
   "outputs": [],
   "source": []
  }
 ],
 "metadata": {
  "kernelspec": {
   "display_name": "Python 3 (ipykernel)",
   "language": "python",
   "name": "python3"
  },
  "language_info": {
   "codemirror_mode": {
    "name": "ipython",
    "version": 3
   },
   "file_extension": ".py",
   "mimetype": "text/x-python",
   "name": "python",
   "nbconvert_exporter": "python",
   "pygments_lexer": "ipython3",
   "version": "3.13.3"
  }
 },
 "nbformat": 4,
 "nbformat_minor": 5
}
